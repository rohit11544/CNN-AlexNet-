{
 "cells": [
  {
   "cell_type": "code",
   "execution_count": 2,
   "metadata": {},
   "outputs": [],
   "source": [
    "#### IMPORTING THE LIBERARIES REQUIRED ####\n",
    "\n",
    "import numpy as np\n",
    "import matplotlib.pyplot as plt\n",
    "import os\n",
    "import cv2\n",
    "from tqdm import tqdm"
   ]
  },
  {
   "cell_type": "code",
   "execution_count": 2,
   "metadata": {},
   "outputs": [],
   "source": [
    "#### CONVERTING THE IMAGES TO ARRAYS ####\n",
    "\n",
    "training_data = []\n",
    "DATADIR = r\"C:\\Users\\bvraju\\Desktop\\AlexNet\\PetImages\"\n",
    "CATEGORIES = [\"Dog\",\"Cat\"]\n",
    "def create_training_data():\n",
    "    for category in CATEGORIES:\n",
    "        path = os.path.join(DATADIR,category)\n",
    "        class_num = CATEGORIES.index(category)\n",
    "        for img in os.listdir(path):\n",
    "            try:\n",
    "                img_array = cv2.imread(os.path.join(path,img),cv2.IMREAD_GRAYSCALE)\n",
    "                new_array = cv2.resize(img_array,(100,100))\n",
    "                training_data.append([new_array,class_num])\n",
    "            except Exception as e:\n",
    "                pass\n",
    "create_training_data()"
   ]
  },
  {
   "cell_type": "code",
   "execution_count": 3,
   "metadata": {},
   "outputs": [],
   "source": [
    "#### creating the labels for the training data ####\n",
    "\n",
    "X_data=[]\n",
    "y_data=[]\n",
    "for x,y in training_data:\n",
    "    X_label = x\n",
    "    y_label = y\n",
    "    X_data.append(X_label)\n",
    "    y_data.append(y_label)"
   ]
  },
  {
   "cell_type": "code",
   "execution_count": 4,
   "metadata": {},
   "outputs": [],
   "source": [
    "#### SAVING THE LABELS TO FILE ####\n",
    "\n",
    "import pickle\n",
    "pickle_out = open('X_LABELS_FOR_GRAYSCALE_IMAGES.pickle','wb')\n",
    "pickle.dump(X_data, pickle_out)\n",
    "pickle_out.close()\n",
    "\n",
    "pickle_out = open('y_LABELS_FOR_GRAYSCALE_IMAGES.pickle', 'wb')\n",
    "pickle.dump(y_data, pickle_out)\n",
    "pickle_out.close()"
   ]
  },
  {
   "cell_type": "code",
   "execution_count": 3,
   "metadata": {},
   "outputs": [],
   "source": [
    "\n",
    "X_Temp = open('X_LABELS_FOR_GRAYSCALE_IMAGES.pickle','rb')\n",
    "y_Temp = open('y_LABELS_FOR_GRAYSCALE_IMAGES.pickle','rb')\n",
    "import pickle   \n",
    "X = pickle.load(X_Temp)\n",
    "y = pickle.load(y_Temp) \n",
    "X_Temp.close()\n",
    "y_Temp.close()"
   ]
  },
  {
   "cell_type": "code",
   "execution_count": 4,
   "metadata": {},
   "outputs": [
    {
     "name": "stdout",
     "output_type": "stream",
     "text": [
      "shape of the image (100, 100)\n",
      "number of total examples (training + valdation + testing) =  24946 24946\n",
      "(24946, 100, 100, 1) (24946, 1)\n"
     ]
    }
   ],
   "source": [
    "\n",
    "print(\"shape of the image\",X[0].shape)\n",
    "\n",
    "\n",
    "from sklearn.utils import shuffle            # Shuffling the data \n",
    "X,y = shuffle(X,y, random_state=2)\n",
    "\n",
    "import numpy as np    \n",
    "X = np.array(X).reshape(-1, 100,100, 1)       # reshaping and converting them to array\n",
    "y = np.array(y).reshape(-1,1)\n",
    "X = np.array(X/255.0)\n",
    "\n",
    "print(\"number of total examples (training + valdation + testing) = \",len(X),len(y))\n",
    "print(X.shape,y.shape)"
   ]
  },
  {
   "cell_type": "code",
   "execution_count": 5,
   "metadata": {},
   "outputs": [
    {
     "name": "stdout",
     "output_type": "stream",
     "text": [
      "(19956, 100, 100, 1) (4990, 100, 100, 1) (19956, 1) (4990, 1)\n"
     ]
    }
   ],
   "source": [
    "#### SPLLITING THE DATA INTO TRAIN (training set includes validation set) AND TEST SET ####\n",
    "\n",
    "from sklearn.model_selection import train_test_split\n",
    "X_train, X_test, y_train, y_test = train_test_split(X, y, test_size=0.2, random_state=2)\n",
    "print(X_train.shape, X_test.shape, y_train.shape, y_test.shape)"
   ]
  },
  {
   "cell_type": "code",
   "execution_count": 6,
   "metadata": {},
   "outputs": [],
   "source": [
    "#### CREATING THE MODEL ####\n",
    "\n",
    "import tensorflow as tf\n",
    "from tensorflow.keras.datasets import cifar10\n",
    "from tensorflow.keras.preprocessing.image import ImageDataGenerator\n",
    "from tensorflow.keras.models import Sequential\n",
    "from tensorflow.keras.layers import Dense, Dropout, Activation, Flatten\n",
    "from tensorflow.keras.layers import Conv2D, MaxPooling2D\n",
    "\n",
    "model = Sequential()\n",
    "\n",
    "model.add(Conv2D(64,(3,3),input_shape = X.shape[1:]))\n",
    "model.add(Activation(\"relu\"))\n",
    "model.add(MaxPooling2D(pool_size=(2,2)))\n",
    "\n",
    "model.add(Conv2D(64,(3,3)))\n",
    "model.add(Activation(\"relu\"))\n",
    "model.add(MaxPooling2D(pool_size=(2,2)))\n",
    "\n",
    "\n",
    "model.add(Flatten())\n",
    "model.add(Dense(64))\n",
    "\n",
    "model.add(Dense(1))\n",
    "model.add(Activation('sigmoid'))\n",
    "\n",
    "model.compile(loss='binary_crossentropy',\n",
    "            optimizer='adam',\n",
    "            metrics=['accuracy'])"
   ]
  },
  {
   "cell_type": "code",
   "execution_count": 7,
   "metadata": {},
   "outputs": [
    {
     "name": "stdout",
     "output_type": "stream",
     "text": [
      "Model: \"sequential\"\n",
      "_________________________________________________________________\n",
      "Layer (type)                 Output Shape              Param #   \n",
      "=================================================================\n",
      "conv2d (Conv2D)              (None, 98, 98, 64)        640       \n",
      "_________________________________________________________________\n",
      "activation (Activation)      (None, 98, 98, 64)        0         \n",
      "_________________________________________________________________\n",
      "max_pooling2d (MaxPooling2D) (None, 49, 49, 64)        0         \n",
      "_________________________________________________________________\n",
      "conv2d_1 (Conv2D)            (None, 47, 47, 64)        36928     \n",
      "_________________________________________________________________\n",
      "activation_1 (Activation)    (None, 47, 47, 64)        0         \n",
      "_________________________________________________________________\n",
      "max_pooling2d_1 (MaxPooling2 (None, 23, 23, 64)        0         \n",
      "_________________________________________________________________\n",
      "flatten (Flatten)            (None, 33856)             0         \n",
      "_________________________________________________________________\n",
      "dense (Dense)                (None, 64)                2166848   \n",
      "_________________________________________________________________\n",
      "dense_1 (Dense)              (None, 1)                 65        \n",
      "_________________________________________________________________\n",
      "activation_2 (Activation)    (None, 1)                 0         \n",
      "=================================================================\n",
      "Total params: 2,204,481\n",
      "Trainable params: 2,204,481\n",
      "Non-trainable params: 0\n",
      "_________________________________________________________________\n"
     ]
    }
   ],
   "source": [
    "model.summary()"
   ]
  },
  {
   "cell_type": "code",
   "execution_count": 6,
   "metadata": {},
   "outputs": [
    {
     "name": "stdout",
     "output_type": "stream",
     "text": [
      "Train on 17960 samples, validate on 1996 samples\n",
      "Epoch 1/5\n",
      "17960/17960 [==============================] - 175s 10ms/sample - loss: 0.6734 - accuracy: 0.6086 - val_loss: 0.5947 - val_accuracy: 0.6859\n",
      "Epoch 2/5\n",
      "17960/17960 [==============================] - 173s 10ms/sample - loss: 0.5614 - accuracy: 0.7165 - val_loss: 0.5672 - val_accuracy: 0.7194\n",
      "Epoch 3/5\n",
      "17960/17960 [==============================] - 174s 10ms/sample - loss: 0.4943 - accuracy: 0.7637 - val_loss: 0.5366 - val_accuracy: 0.7355\n",
      "Epoch 4/5\n",
      "17960/17960 [==============================] - 174s 10ms/sample - loss: 0.4570 - accuracy: 0.7896 - val_loss: 0.5363 - val_accuracy: 0.7415\n",
      "Epoch 5/5\n",
      "17960/17960 [==============================] - 172s 10ms/sample - loss: 0.4196 - accuracy: 0.8097 - val_loss: 0.5267 - val_accuracy: 0.7625\n"
     ]
    }
   ],
   "source": [
    "#### TRAINING THE MODEL AND TESTING ON VALIDATION SET ####\n",
    "num_epochs=5\n",
    "hist = model.fit(X_train,y_train,batch_size=32,epochs=num_epochs,validation_split=0.1) "
   ]
  },
  {
   "cell_type": "code",
   "execution_count": 7,
   "metadata": {},
   "outputs": [
    {
     "data": {
      "image/png": "[encoded data removed]",
      "text/plain": [
       "<Figure size 504x360 with 1 Axes>"
      ]
     },
     "metadata": {
      "needs_background": "light"
     },
     "output_type": "display_data"
    },
    {
     "data": {
      "image/png": "[encoded data removed]",
      "text/plain": [
       "<Figure size 504x360 with 1 Axes>"
      ]
     },
     "metadata": {
      "needs_background": "light"
     },
     "output_type": "display_data"
    }
   ],
   "source": [
    "#### VISUALIZING THE LOSS AND ACCURACY ####\n",
    "\n",
    "import matplotlib.pyplot as plt\n",
    "\n",
    "train_loss=hist.history['loss']\n",
    "val_loss=hist.history['val_loss']\n",
    "train_acc=hist.history['accuracy']\n",
    "val_acc=hist.history['val_accuracy']\n",
    "xc=range(num_epochs)\n",
    "\n",
    "plt.figure(1,figsize=(7,5))\n",
    "plt.plot(xc,train_loss)\n",
    "plt.plot(xc,val_loss)\n",
    "plt.xlabel('num of Epochs')\n",
    "plt.ylabel('loss')\n",
    "plt.title('train_loss vs val_loss')\n",
    "plt.grid(True)\n",
    "plt.legend(['train','val'])\n",
    "#print plt.style.available # use bmh, classic,ggplot for big pictures\n",
    "#plt.style.use(['classic'])\n",
    "\n",
    "plt.figure(2,figsize=(7,5))\n",
    "plt.plot(xc,train_acc)\n",
    "plt.plot(xc,val_acc)\n",
    "plt.xlabel('num of Epochs')\n",
    "plt.ylabel('accuracy')\n",
    "plt.title('train_acc vs val_acc')\n",
    "plt.grid(True)\n",
    "plt.legend(['train','val'],loc=4)\n",
    "#print plt.style.available # use bmh, classic,ggplot for big pictures\n",
    "#plt.style.use(['classic'])\n",
    "\n",
    "plt.show()"
   ]
  },
  {
   "cell_type": "code",
   "execution_count": 8,
   "metadata": {},
   "outputs": [
    {
     "name": "stdout",
     "output_type": "stream",
     "text": [
      "press 1 to continue...1\n",
      "saved the new weights\n"
     ]
    }
   ],
   "source": [
    "#### SAVING THE TRAINED WEIGHTS (helps to avoid multiple times of training the model) ####\n",
    "\n",
    "sure = int(input(\"press 1 to continue...\"))\n",
    "if sure == 1:\n",
    "    fname = \"Custom_model_TRAINED_WEIGHTS\"\n",
    "    model.save_weights(fname , overwrite=True)\n",
    "    print(\"saved the new weights\")\n",
    "else:\n",
    "    print(\"no new weights are saved\")    "
   ]
  },
  {
   "cell_type": "code",
   "execution_count": 8,
   "metadata": {},
   "outputs": [
    {
     "data": {
      "text/plain": [
       "<tensorflow.python.training.tracking.util.CheckpointLoadStatus at 0x25cda4b9c88>"
      ]
     },
     "execution_count": 8,
     "metadata": {},
     "output_type": "execute_result"
    }
   ],
   "source": [
    "#### LOADING THE WEIGHTS(this step can be skipped) ####\n",
    "\n",
    "fname = \"Custom_model_TRAINED_WEIGHTS\"\n",
    "model.load_weights(fname)"
   ]
  },
  {
   "cell_type": "code",
   "execution_count": 9,
   "metadata": {},
   "outputs": [
    {
     "name": "stdout",
     "output_type": "stream",
     "text": [
      "prediction on  4990  images.\n"
     ]
    }
   ],
   "source": [
    "#### PREDICTING THE CLASSES FOR THE TEST SET ####\n",
    "\n",
    "predicted=model.predict_classes([X_test])\n",
    "\n",
    "print(\"prediction on \", len(predicted),\" images.\")"
   ]
  },
  {
   "cell_type": "code",
   "execution_count": 10,
   "metadata": {},
   "outputs": [
    {
     "name": "stdout",
     "output_type": "stream",
     "text": [
      "accuracy on test :  0.7735470941883767\n"
     ]
    }
   ],
   "source": [
    "#### PRINTTING THE ACCURACY ON THE TESTING SET ####\n",
    "\n",
    "count=0\n",
    "for i in range(4990):\n",
    "    if predicted[i]==y_test[i]:\n",
    "        count+=1\n",
    "print(\"accuracy on test : \",count/len(X_test))  "
   ]
  },
  {
   "cell_type": "code",
   "execution_count": null,
   "metadata": {},
   "outputs": [],
   "source": []
  }
 ],
 "metadata": {
  "kernelspec": {
   "display_name": "Python 3",
   "language": "python",
   "name": "python3"
  },
  "language_info": {
   "codemirror_mode": {
    "name": "ipython",
    "version": 3
   },
   "file_extension": ".py",
   "mimetype": "text/x-python",
   "name": "python",
   "nbconvert_exporter": "python",
   "pygments_lexer": "ipython3",
   "version": "3.7.6"
  }
 },
 "nbformat": 4,
 "nbformat_minor": 4
}
