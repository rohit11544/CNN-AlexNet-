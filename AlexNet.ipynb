{
 "cells": [
  {
   "cell_type": "code",
   "execution_count": null,
   "metadata": {},
   "outputs": [],
   "source": [
    "#### IMPORTING THE LIBERARIES REQUIRED ####\n",
    "\n",
    "import numpy as np\n",
    "import matplotlib.pyplot as plt\n",
    "import os\n",
    "import cv2\n",
    "from tqdm import tqdm"
   ]
  },
  {
   "cell_type": "code",
   "execution_count": null,
   "metadata": {},
   "outputs": [],
   "source": [
    "#### CONVERTING THE IMAGES TO ARRAYS ####\n",
    "\n",
    "training_data = []\n",
    "DATADIR = r\"C:\\Users\\bvraju\\Desktop\\AlexNet\\PetImages\"\n",
    "CATEGORIES = [\"Dog\",\"Cat\"]\n",
    "def create_training_data():\n",
    "    for category in CATEGORIES:\n",
    "        path = os.path.join(DATADIR,category)\n",
    "        class_num = CATEGORIES.index(category)\n",
    "        for img in os.listdir(path):\n",
    "            try:\n",
    "                img_array = cv2.imread(os.path.join(path,img))\n",
    "                new_array = cv2.resize(img_array,(227,227))\n",
    "                training_data.append([new_array,class_num])\n",
    "            except Exception as e:\n",
    "                pass\n",
    "create_training_data()"
   ]
  },
  {
   "cell_type": "code",
   "execution_count": null,
   "metadata": {},
   "outputs": [],
   "source": [
    "#### SAVING THE LABELS TO FILE ####\n",
    "\n",
    "import pickle\n",
    "pickle_out = open('LABELS_FOR_COLOUR_IMAGES.pickle','wb')\n",
    "pickle.dump(X_data, pickle_out)\n",
    "pickle_out.close()"
   ]
  },
  {
   "cell_type": "code",
   "execution_count": 1,
   "metadata": {},
   "outputs": [],
   "source": [
    "#### LOADING THE x AND y LABELS ####\n",
    "\n",
    "import pickle  \n",
    "temp = open('LABELS_FOR_COLOUR_IMAGES.pickle','rb')\n",
    "X_y = pickle.load(temp)\n",
    "temp.close()\n",
    "X_data=[]\n",
    "y_data=[]\n",
    "for x,y in X_y:\n",
    "    X_label = x\n",
    "    y_label = y\n",
    "    X_data.append(X_label)\n",
    "    y_data.append(y_label)\n",
    "print(\"total number of examples : \",len(X_y))"
   ]
  },
  {
   "cell_type": "code",
   "execution_count": 4,
   "metadata": {},
   "outputs": [],
   "source": [
    "#### CONVERTING THE LIST OF LABELS TO ARRAY ####\n",
    "\n",
    "import numpy as np\n",
    "X=np.array(X_data).reshape(-1,227,227,3)\n",
    "y=np.array(y_data).reshape(-1,1)\n",
    "print(\"shape of the input array \",X.shape)\n",
    "print(\"shape of the output label \",y.shape)"
   ]
  },
  {
   "cell_type": "code",
   "execution_count": 6,
   "metadata": {},
   "outputs": [
    {
     "name": "stdout",
     "output_type": "stream",
     "text": [
      "(19956, 227, 227, 3) (4990, 227, 227, 3) (19956, 1) (4990, 1)\n"
     ]
    }
   ],
   "source": [
    "#### SPLLITING THE DATA INTO TRAIN (training set includes validation set) AND TEST SET ####\n",
    "\n",
    "from sklearn.model_selection import train_test_split\n",
    "X_train, X_test, y_train, y_test = train_test_split(X, y, test_size=0.2, random_state=2) \n",
    "print(X_train.shape, X_test.shape, y_train.shape, y_test.shape)"
   ]
  },
  {
   "cell_type": "code",
   "execution_count": 8,
   "metadata": {},
   "outputs": [],
   "source": [
    "\n",
    "##### ALEXNET MODEL ####\n",
    "\n",
    "from keras.models import Sequential\n",
    "from keras.layers.core import Dense, Dropout, Activation, Flatten\n",
    "from keras.layers.convolutional import Conv2D, MaxPooling2D\n",
    "from keras.layers.normalization import BatchNormalization\n",
    "\n",
    "def alexnet():\n",
    "    model = Sequential()\n",
    "    model.add(Conv2D(96, (11, 11),strides=4, padding='valid', input_shape=(227,227,3)))\n",
    "    model.add(BatchNormalization())\n",
    "    model.add(Activation('relu'))\n",
    "    model.add(MaxPooling2D(pool_size=(3, 3),strides=2))\n",
    "\n",
    "    model.add(Conv2D(256, (5, 5), padding='same'))\n",
    "    model.add(BatchNormalization())\n",
    "    model.add(Activation('relu'))\n",
    "    model.add(MaxPooling2D(pool_size=(3, 3),strides=2))\n",
    "\n",
    "    model.add(Conv2D(384, (3, 3), padding='same'))\n",
    "    model.add(Conv2D(384, (3, 3), padding='same'))\n",
    "    model.add(Conv2D(256, (3, 3), padding='same'))\n",
    "    model.add(BatchNormalization())\n",
    "    model.add(Activation('relu'))\n",
    "    model.add(MaxPooling2D(pool_size=(3, 3),strides=2))\n",
    "\n",
    "    model.add(Flatten())\n",
    "    model.add(Dense(9216))\n",
    "    model.add(BatchNormalization())\n",
    "    model.add(Activation('relu'))\n",
    "    model.add(Dense(4096))\n",
    "    model.add(BatchNormalization())\n",
    "    model.add(Activation('relu'))\n",
    "    model.add(Dense(1))\n",
    "    model.add(BatchNormalization())\n",
    "    model.add(Activation('sigmoid'))\n",
    "\n",
    "    return model"
   ]
  },
  {
   "cell_type": "code",
   "execution_count": 9,
   "metadata": {},
   "outputs": [],
   "source": [
    "model = alexnet() # creating the AlexNet model."
   ]
  },
  {
   "cell_type": "code",
   "execution_count": 10,
   "metadata": {},
   "outputs": [
    {
     "name": "stdout",
     "output_type": "stream",
     "text": [
      "Model: \"sequential_1\"\n",
      "_________________________________________________________________\n",
      "Layer (type)                 Output Shape              Param #   \n",
      "=================================================================\n",
      "conv2d_1 (Conv2D)            (None, 55, 55, 96)        34944     \n",
      "_________________________________________________________________\n",
      "batch_normalization_1 (Batch (None, 55, 55, 96)        384       \n",
      "_________________________________________________________________\n",
      "activation_1 (Activation)    (None, 55, 55, 96)        0         \n",
      "_________________________________________________________________\n",
      "max_pooling2d_1 (MaxPooling2 (None, 27, 27, 96)        0         \n",
      "_________________________________________________________________\n",
      "conv2d_2 (Conv2D)            (None, 27, 27, 256)       614656    \n",
      "_________________________________________________________________\n",
      "batch_normalization_2 (Batch (None, 27, 27, 256)       1024      \n",
      "_________________________________________________________________\n",
      "activation_2 (Activation)    (None, 27, 27, 256)       0         \n",
      "_________________________________________________________________\n",
      "max_pooling2d_2 (MaxPooling2 (None, 13, 13, 256)       0         \n",
      "_________________________________________________________________\n",
      "conv2d_3 (Conv2D)            (None, 13, 13, 384)       885120    \n",
      "_________________________________________________________________\n",
      "conv2d_4 (Conv2D)            (None, 13, 13, 384)       1327488   \n",
      "_________________________________________________________________\n",
      "conv2d_5 (Conv2D)            (None, 13, 13, 256)       884992    \n",
      "_________________________________________________________________\n",
      "batch_normalization_3 (Batch (None, 13, 13, 256)       1024      \n",
      "_________________________________________________________________\n",
      "activation_3 (Activation)    (None, 13, 13, 256)       0         \n",
      "_________________________________________________________________\n",
      "max_pooling2d_3 (MaxPooling2 (None, 6, 6, 256)         0         \n",
      "_________________________________________________________________\n",
      "flatten_1 (Flatten)          (None, 9216)              0         \n",
      "_________________________________________________________________\n",
      "dense_1 (Dense)              (None, 9216)              84943872  \n",
      "_________________________________________________________________\n",
      "batch_normalization_4 (Batch (None, 9216)              36864     \n",
      "_________________________________________________________________\n",
      "activation_4 (Activation)    (None, 9216)              0         \n",
      "_________________________________________________________________\n",
      "dense_2 (Dense)              (None, 4096)              37752832  \n",
      "_________________________________________________________________\n",
      "batch_normalization_5 (Batch (None, 4096)              16384     \n",
      "_________________________________________________________________\n",
      "activation_5 (Activation)    (None, 4096)              0         \n",
      "_________________________________________________________________\n",
      "dense_3 (Dense)              (None, 1)                 4097      \n",
      "_________________________________________________________________\n",
      "batch_normalization_6 (Batch (None, 1)                 4         \n",
      "_________________________________________________________________\n",
      "activation_6 (Activation)    (None, 1)                 0         \n",
      "=================================================================\n",
      "Total params: 126,503,685\n",
      "Trainable params: 126,475,843\n",
      "Non-trainable params: 27,842\n",
      "_________________________________________________________________\n"
     ]
    }
   ],
   "source": [
    "model.summary()  # overview of the model"
   ]
  },
  {
   "cell_type": "code",
   "execution_count": 11,
   "metadata": {},
   "outputs": [
    {
     "name": "stdout",
     "output_type": "stream",
     "text": [
      "Train on 17960 samples, validate on 1996 samples\n",
      "Epoch 1/1\n",
      "17960/17960 [==============================] - 2306s 128ms/step - loss: 0.5656 - accuracy: 0.7076 - val_loss: 0.5439 - val_accuracy: 0.7199\n"
     ]
    }
   ],
   "source": [
    "#### TRAINING THE MODEL AND TESTING IT ON VALIDATION SET (validation_split=0.10) ####\n",
    "\n",
    "model.compile(loss='binary_crossentropy',\n",
    "            optimizer='adam',\n",
    "            metrics=['accuracy'])\n",
    "hist=model.fit(X_train,y_train,batch_size=32,epochs=1,validation_split=0.10) "
   ]
  },
  {
   "cell_type": "code",
   "execution_count": 12,
   "metadata": {},
   "outputs": [
    {
     "name": "stdout",
     "output_type": "stream",
     "text": [
      "press 1 to continue...1\n",
      "saved the new weights\n"
     ]
    }
   ],
   "source": [
    "#### SAVING THE TRAINED WEIGHTS (helps to avoid multiple times of training the model) ####\n",
    "\n",
    "sure = int(input(\"press 1 to continue...\"))\n",
    "if sure == 1:\n",
    "    fname = \"AlexNet_weights_TRAINED_WEIGHTS\"\n",
    "    model.save_weights(fname , overwrite=True)\n",
    "    print(\"saved the new weights\")\n",
    "else:\n",
    "    print(\"no new weights are saved\")    "
   ]
  },
  {
   "cell_type": "code",
   "execution_count": 13,
   "metadata": {},
   "outputs": [],
   "source": [
    "#### LOADING THE WEIGHTS(this step can be skipped) ####\n",
    "\n",
    "fname = \"AlexNet_weights_TRAINED_WEIGHTS\"\n",
    "model.load_weights(fname)"
   ]
  },
  {
   "cell_type": "code",
   "execution_count": 17,
   "metadata": {},
   "outputs": [
    {
     "name": "stdout",
     "output_type": "stream",
     "text": [
      "prediction on  4990  images.\n"
     ]
    }
   ],
   "source": [
    "#### PREDICTING THE CLASSES FOR THE TEST SET ####\n",
    "\n",
    "predicted=model.predict_classes([X_test])\n",
    "\n",
    "print(\"prediction on \", len(predicted),\" images.\")"
   ]
  },
  {
   "cell_type": "code",
   "execution_count": 18,
   "metadata": {},
   "outputs": [
    {
     "name": "stdout",
     "output_type": "stream",
     "text": [
      "accuracy on test :  0.7280561122244489\n"
     ]
    }
   ],
   "source": [
    "#### PRINTTING THE ACCURACY ON THE TESTING SET ####\n",
    "\n",
    "count=0\n",
    "for i in range(len(predicted)):\n",
    "    if predicted[i]==y_test[i]:\n",
    "        count+=1\n",
    "print(\"accuracy on test : \",count/len(X_test))"
   ]
  },
  {
   "cell_type": "code",
   "execution_count": null,
   "metadata": {},
   "outputs": [],
   "source": []
  }
 ],
 "metadata": {
  "kernelspec": {
   "display_name": "Python 3",
   "language": "python",
   "name": "python3"
  },
  "language_info": {
   "codemirror_mode": {
    "name": "ipython",
    "version": 3
   },
   "file_extension": ".py",
   "mimetype": "text/x-python",
   "name": "python",
   "nbconvert_exporter": "python",
   "pygments_lexer": "ipython3",
   "version": "3.7.6"
  }
 },
 "nbformat": 4,
 "nbformat_minor": 4
}
